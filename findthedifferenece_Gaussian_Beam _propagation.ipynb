{
 "cells": [
  {
   "cell_type": "markdown",
   "id": "c25d0ea0",
   "metadata": {},
   "source": [
    "# Finite Difference Method for Beam Modelling"
   ]
  },
  {
   "cell_type": "markdown",
   "id": "d80da21c",
   "metadata": {},
   "source": [
    "Mesh size is key here. Because you are dealing with two different dimensions (r and z) affecting eachother you need to make sure the ratio between the integrals is correct. If dz is too big, the step size will not give the opportuinity for divergence to occur in the radial direction. \n",
    "\n",
    "dz/k*dr**2 <<1  --> k*dr**2 >> dz --> k*dr**2 =10*dz --> dz = k*dr**2/100 "
   ]
  },
  {
   "cell_type": "code",
   "execution_count": null,
   "id": "781b7511",
   "metadata": {},
   "outputs": [],
   "source": [
    "\n",
    "import matplotlib.pyplot as plt\n",
    "import cmath as m \n",
    "import numpy as np\n",
    "\n",
    "F = 50E3\n",
    "lmda = 1.064\n",
    "w = 1E3\n",
    "k = 2*m.pi/lmda\n",
    "rpoints = 100\n",
    "r = np.linspace(0,1.5*w,rpoints)\n",
    "dr = r[2]-r[1]\n",
    "dz = k*(dr**2)/100\n",
    "zrange = 100E3 #microns\n",
    "zpoints = int(zrange/dz)\n",
    "z = np.linspace(0,dz*zpoints,zpoints)\n",
    "\n",
    "Edata = np.zeros((rpoints,zpoints),dtype=complex)\n",
    "Change_data = np.zeros((rpoints,zpoints),dtype=complex)\n",
    "\n",
    "a = 2/(k*(w**2)) + 1j/F\n",
    "\n",
    "for i in range(rpoints):\n",
    "    Edata[i,0] = m.exp(-a*(r[i]**2)*k/2)\n",
    "\n",
    "integral = abs(sum(Edata[:,0]))\n",
    "\n",
    "for j in range(1,zpoints):\n",
    "    for i in range(rpoints):\n",
    "        if 0<i<rpoints-1:\n",
    "            Fd = ((Edata[i+1,j-1]-Edata[i,j-1])/(dr))/r[i]\n",
    "            Sd = ((Edata[i+1,j-1]-2*Edata[i,j-1]+Edata[i-1,j-1])/(dr**2))\n",
    "            Edata[i,j]=Edata[i,j-1]+ ((((1j/2/k)*(Sd+Fd))*dz))\n",
    "    \n",
    "        \n",
    "    Edata[rpoints-1,j] = Edata[rpoints-2,j]        \n",
    "    Edata[0,j] = Edata[1,j]\n",
    "    totalarea = abs(sum(Edata[:,j]))\n",
    "    for i in range(rpoints):\n",
    "        Edata[i,j] = (Edata[i,j]/totalarea)*integral\n",
    "\n",
    "    pdone = (j/zpoints)*100\n",
    "    if j%1000 == 0:\n",
    "        print(pdone)\n",
    "    \n",
    "Edata = np.vstack((np.flipud(Edata),Edata))\n",
    "\n",
    "plotr = np.hstack((np.flip(r*-1),r))\n",
    "plt.pcolormesh(z,plotr,abs(Edata),shading='auto')\n",
    "\n"
   ]
  },
  {
   "cell_type": "code",
   "execution_count": null,
   "id": "05a44ba9",
   "metadata": {},
   "outputs": [],
   "source": [
    "plt.plot(z,abs(Edata[100,:]))"
   ]
  },
  {
   "cell_type": "code",
   "execution_count": null,
   "id": "de56d339",
   "metadata": {},
   "outputs": [],
   "source": [
    "np.amax(abs(Edata))"
   ]
  },
  {
   "cell_type": "code",
   "execution_count": null,
   "id": "7268c06a",
   "metadata": {},
   "outputs": [],
   "source": []
  },
  {
   "cell_type": "code",
   "execution_count": null,
   "id": "cf6b2618",
   "metadata": {},
   "outputs": [],
   "source": [
    "\n",
    "for j in range(zpoints):\n",
    "    for i in range(rpoints): \n",
    "        if abs(Edata[i,j])>3:\n",
    "            Edata[i,j]=1.5\n",
    "\n",
    "plt.pcolormesh(z,plotr,abs(Edata),shading='auto')   "
   ]
  },
  {
   "cell_type": "code",
   "execution_count": null,
   "id": "5cc7f87e",
   "metadata": {},
   "outputs": [],
   "source": [
    "plt.plot(plotr,abs(Edata[:,60000]))"
   ]
  },
  {
   "cell_type": "code",
   "execution_count": null,
   "id": "269cfc13",
   "metadata": {},
   "outputs": [],
   "source": [
    "\n",
    "import matplotlib.pyplot as plt\n",
    "import cmath as m \n",
    "import numpy as np\n",
    "\n",
    "F = 5E3\n",
    "lmda = 1.064\n",
    "w = 1E3\n",
    "k = 2*m.pi/lmda/25\n",
    "rpoints = 100\n",
    "r = np.linspace(0,2E3,rpoints)\n",
    "dr = r[2]-r[1]\n",
    "dz = k*(dr**2)/50\n",
    "zrange = 15E3 #microns\n",
    "zpoints = int(zrange/dz)\n",
    "z = np.linspace(0,dz*zpoints,zpoints)\n",
    "\n",
    "Edata = np.zeros((rpoints,zpoints),dtype=complex)\n",
    "\n",
    "a = 2/(k*(w**2)) + 1j/F\n",
    "Edata[:,0] = np.exp(-a*(r**2)*k/2)\n",
    "\n",
    "\n",
    "\n",
    "integral = sum(abs(Edata[:,0]))\n",
    "\n",
    "for j in range(1,zpoints):\n",
    "    Fd=np.gradient(Edata[1:(rpoints-1),j-1],dr)\n",
    "    Sd=np.gradient(Fd,dr)\n",
    "    Edata[1:(rpoints-1),j] = Edata[1:(rpoints-1),j-1] + ((1j/2/k)*(Sd+(Fd/r[1:(rpoints-1)]))*dz)\n",
    "    Edata[rpoints-1,j] = Edata[rpoints-2,j]        \n",
    "    Edata[0,j] = Edata[1,j]\n",
    "    totalarea = sum(abs(Edata[:,j]))\n",
    "    Edata[:,j] = (Edata[:,j]/totalarea)*integral\n",
    "\n",
    "    pdone = (j/zpoints)*100\n",
    "    if j%1000 == 0:\n",
    "        print(pdone)\n",
    "    \n",
    "Edata = np.vstack((np.flipud(Edata),Edata))\n",
    "\n",
    "plotr = np.hstack((np.flip(r*-1),r))\n",
    "plt.pcolormesh(z,plotr,abs(Edata),shading='auto')\n",
    "\n"
   ]
  },
  {
   "cell_type": "code",
   "execution_count": null,
   "id": "fc05c032",
   "metadata": {},
   "outputs": [],
   "source": [
    "\n",
    "import matplotlib.pyplot as plt\n",
    "import cmath as m \n",
    "import numpy as np\n",
    "\n",
    "F = 2.5E3\n",
    "lmda = 1.064\n",
    "w = 100#1E3\n",
    "k = 2*m.pi/lmda\n",
    "rpoints = 500\n",
    "r = np.linspace(0.5,200,rpoints)\n",
    "dr = r[2]-r[1]\n",
    "dz = k*(dr**2)/100\n",
    "zrange = 5E3 #microns\n",
    "zpoints = int(zrange/dz)\n",
    "z = np.linspace(0,dz*zpoints,zpoints)\n",
    "\n",
    "Edata = np.zeros((rpoints,zpoints),dtype=complex)\n",
    "Change_data = np.zeros((rpoints,zpoints),dtype=complex)\n",
    "\n",
    "a = 2/(k*(w**2)) + 1j/F\n",
    "\n",
    "\n",
    "Edata[:,0] = np.exp(-a*(r**2)*k/2)\n",
    "\n",
    "\n",
    "\n",
    "integral = sum(abs(Edata[:,0]))\n",
    "\n",
    "for j in range(1,zpoints):\n",
    "    Fd=np.gradient(Edata[0:(rpoints-1),j-1],dr,edge_order=2)\n",
    "    Sd=np.gradient(Fd,dr,edge_order=2)\n",
    "    Edata[0:(rpoints-1),j] = Edata[0:(rpoints-1),j-1] + ((1j/2/k)*(Sd+(Fd/r[0:(rpoints-1)]))*dz)\n",
    "#     Edata[rpoints-1,j] = Edata[rpoints-2,j]        \n",
    "#     Edata[0,j] = Edata[1,j]\n",
    "    totalarea = sum(abs(Edata[:,j]))\n",
    "    Edata[:,j] = (Edata[:,j]/totalarea)*integral\n",
    "\n",
    "    pdone = (j/zpoints)*100\n",
    "    if j%1000 == 0:\n",
    "        print(pdone)\n",
    "    \n",
    "Edata = np.vstack((np.flipud(Edata),Edata))\n",
    "\n",
    "plotr = np.hstack((np.flip(r*-1),r))\n",
    "plt.pcolormesh(z,plotr,abs(Edata),shading='auto')\n",
    "\n"
   ]
  },
  {
   "cell_type": "code",
   "execution_count": null,
   "id": "b4a0d851",
   "metadata": {},
   "outputs": [],
   "source": [
    "plt.plot(plotr,abs(Edata[:,100]))"
   ]
  },
  {
   "cell_type": "code",
   "execution_count": null,
   "id": "de50011e",
   "metadata": {},
   "outputs": [],
   "source": [
    "%reset\n"
   ]
  },
  {
   "cell_type": "code",
   "execution_count": 37,
   "id": "0ab36fc0",
   "metadata": {
    "scrolled": true
   },
   "outputs": [
    {
     "data": {
      "text/plain": [
       "<matplotlib.contour.QuadContourSet at 0x1da44229df0>"
      ]
     },
     "execution_count": 37,
     "metadata": {},
     "output_type": "execute_result"
    },
    {
     "data": {
      "image/png": "[encoded data removed]",
      "text/plain": [
       "<Figure size 432x288 with 1 Axes>"
      ]
     },
     "metadata": {
      "needs_background": "light"
     },
     "output_type": "display_data"
    }
   ],
   "source": [
    "\n",
    "import matplotlib.pyplot as plt\n",
    "import cmath as m \n",
    "import numpy as np\n",
    "\n",
    "F = 200E3\n",
    "lmda = 1.064\n",
    "w = 1E3\n",
    "k = 2*m.pi/lmda\n",
    "rpoints =2**7\n",
    "r = np.linspace(0,2E3,rpoints)\n",
    "dr = r[2]-r[1]\n",
    "dz = k*(dr**2)/100\n",
    "zrange =400E3 #microns\n",
    "zpoints = int(zrange/dz)\n",
    "z = np.linspace(0,dz*zpoints,zpoints)\n",
    "\n",
    "Edata = np.zeros((rpoints,zpoints),dtype=complex)\n",
    "\n",
    "a = 2/(k*(w**2)) + 1j/F\n",
    "Edata[:,0] = np.exp(-a*(r**2)*k/2)\n",
    "\n",
    "STEP = np.zeros((rpoints,rpoints))\n",
    "\n",
    "Enm1 = 1/(dr**2)\n",
    "\n",
    "def En(r):\n",
    "    En = -1/(r*dr) - 2/(dr**2)\n",
    "    return En\n",
    "\n",
    "def Enp1(r):\n",
    "    Enp1 = 1/(r*dr) + 1/(dr**2)\n",
    "    return Enp1\n",
    "\n",
    "STEP[0,0:3]= [Enm1, En(r[1]), Enp1(r[1])]\n",
    "STEP[rpoints-1,rpoints-3:rpoints]= [0,0,0]#[Enm1, En(r[rpoints-2]), Enp1(r[rpoints-2])]\n",
    "\n",
    "for p in range(1,rpoints-2):\n",
    "    STEP[p,p-1] = Enm1\n",
    "    STEP[p,p] = En(r[p])\n",
    "    STEP[p,p+1] = Enp1(r[p])\n",
    "\n",
    "    \n",
    "\n",
    "\n",
    "integral = sum(abs(Edata[:,0]))\n",
    "\n",
    "\n",
    "for j in range(1,zpoints):\n",
    "    Edata[:,j] = Edata[:,j-1] + (1j/2/k)*(STEP@Edata[:,j-1])*dz\n",
    "    totalarea = sum(abs(Edata[:,j]))\n",
    "    Edata[:,j] = (Edata[:,j]/totalarea)*integral\n",
    "\n",
    "#     pdone = (j/zpoints)*100\n",
    "#     if j%1000 == 0:\n",
    "#         print(pdone)\n",
    "    \n",
    "pEdata = abs(np.vstack((np.flipud(Edata),Edata)))\n",
    "\n",
    "plotr = (np.hstack((np.flip(r*-1),r)))\n",
    "pz = z/1E3\n",
    "plt.contourf(pz,plotr,pEdata, levels = 30, cmap = 'jet')\n",
    "#plt.pcolormesh(pz,plotr,pEdata,shading='auto')"
   ]
  },
  {
   "cell_type": "code",
   "execution_count": null,
   "id": "98b346f8",
   "metadata": {},
   "outputs": [],
   "source": [
    "STEP[120:128,120:128]"
   ]
  },
  {
   "cell_type": "code",
   "execution_count": 78,
   "id": "527ee531",
   "metadata": {},
   "outputs": [
    {
     "data": {
      "text/plain": [
       "(-200.0, 200.0)"
      ]
     },
     "execution_count": 78,
     "metadata": {},
     "output_type": "execute_result"
    },
    {
     "data": {
      "image/png": "[encoded data removed]",
      "text/plain": [
       "<Figure size 432x288 with 1 Axes>"
      ]
     },
     "metadata": {
      "needs_background": "light"
     },
     "output_type": "display_data"
    },
    {
     "data": {
      "image/png": "[encoded data removed]",
      "text/plain": [
       "<Figure size 432x288 with 1 Axes>"
      ]
     },
     "metadata": {
      "needs_background": "light"
     },
     "output_type": "display_data"
    },
    {
     "data": {
      "image/png": "[encoded data removed]",
      "text/plain": [
       "<Figure size 432x288 with 1 Axes>"
      ]
     },
     "metadata": {
      "needs_background": "light"
     },
     "output_type": "display_data"
    }
   ],
   "source": [
    "\n",
    "import matplotlib.pyplot as plt\n",
    "import cmath as m \n",
    "import numpy as np\n",
    "\n",
    "F = 100E3\n",
    "lmda = 1.064\n",
    "w = 1E3\n",
    "k = 2*m.pi/lmda\n",
    "xpoints =200\n",
    "x = np.linspace(0,2E3,xpoints)\n",
    "y = x\n",
    "dx = x[2]-x[1]\n",
    "dz = k*(dx**2)/100\n",
    "zrange =150E3 #microns\n",
    "zpoints = int(zrange/dz)\n",
    "z = np.linspace(0,dz*zpoints,zpoints)\n",
    "\n",
    "Edatax = np.zeros((xpoints,zpoints),dtype=complex)\n",
    "Edatay = np.zeros((xpoints,zpoints),dtype=complex)\n",
    "\n",
    "ax = 2/(k*(w**2)) + 1j/F\n",
    "ay = 2/(k*(w**2)) \n",
    "Edatax[:,0] = np.exp(-ax*(x**2)*k/2)\n",
    "Edatay[:,0] = np.exp(-ay*(y**2)*k/2)\n",
    "\n",
    "STEP = np.zeros((xpoints,xpoints))\n",
    "\n",
    "Enm1 = 1/(dx**2)\n",
    "En = - 2/(dx**2)\n",
    "Enp1 = 1/(dx**2)\n",
    "\n",
    "#STEP[0,0:3]= [Enm1, En, Enp1]\n",
    "STEP[0,0:3]= [En, 2*Enp1, 0]\n",
    "STEP[xpoints-1,xpoints-3:xpoints]= [0,0,0]#[Enm1, En(r[rpoints-2]), Enp1(r[rpoints-2])]\n",
    "\n",
    "for p in range(1,rpoints-2):\n",
    "    STEP[p,p-1] = Enm1\n",
    "    STEP[p,p] = En\n",
    "    STEP[p,p+1] = Enp1\n",
    "    \n",
    "\n",
    "\n",
    "integral = sum(abs(Edatax[:,0]))\n",
    "\n",
    "\n",
    "\n",
    "for j in range(1,zpoints):\n",
    "    Edatax[:,j] = Edatax[:,j-1] + (1j/2/k)*(STEP@Edatax[:,j-1])*dz\n",
    "    totalarea = sum(abs(Edatax[:,j]))\n",
    "    Edatax[:,j] = (Edatax[:,j]/totalarea)*integral\n",
    "\n",
    "for j in range(1,zpoints):\n",
    "    Edatay[:,j] = Edatay[:,j-1] + (1j/2/k)*(STEP@Edatay[:,j-1])*dz\n",
    "    totalarea = sum(abs(Edatay[:,j]))\n",
    "    Edatay[:,j] = (Edatay[:,j]/totalarea)*integral\n",
    "\n",
    "    \n",
    "#     pdone = (j/zpoints)*100\n",
    "#     if j%1000 == 0:\n",
    "#         print(pdone)\n",
    "    \n",
    "pEdatax = abs(np.vstack((np.flipud(Edatax),Edatax)))\n",
    "pEdatay = abs(np.vstack((np.flipud(Edatay),Edatay)))\n",
    "\n",
    "plotx = (np.hstack((np.flip(x*-1),x)))\n",
    "pz = z/1E3\n",
    "plt.contourf(pz,plotx,pEdatax, levels = 30, cmap = 'jet')\n",
    "plt.figure(2)\n",
    "plt.contourf(pz,plotx,pEdatay, levels = 30, cmap = 'jet')\n",
    "plt.figure(3)\n",
    "fz = int(F/dz)\n",
    "fspot = np.zeros((xpoints,xpoints))\n",
    "for j in range(xpoints):\n",
    "    fspot[j,:]=abs(Edatax[:,fz]*Edatay[j,fz])\n",
    "fspot = np.vstack((np.flipud(fspot),fspot))\n",
    "pfspot = np.hstack((np.flip(fspot),fspot))  \n",
    "pfspot = pfspot/np.max(pfspot)\n",
    "plt.contourf(plotx,plotx,pfspot, levels = 30, cmap = 'jet')\n",
    "plt.xlim([-200,200])\n",
    "\n",
    "#plt.pcolormesh(pz,plotr,pEdata,shading='auto')"
   ]
  },
  {
   "cell_type": "code",
   "execution_count": 82,
   "id": "5cc64ade",
   "metadata": {},
   "outputs": [
    {
     "data": {
      "text/plain": [
       "(-400.0, 400.0)"
      ]
     },
     "execution_count": 82,
     "metadata": {},
     "output_type": "execute_result"
    },
    {
     "data": {
      "image/png": "[encoded data removed]",
      "text/plain": [
       "<Figure size 432x288 with 1 Axes>"
      ]
     },
     "metadata": {
      "needs_background": "light"
     },
     "output_type": "display_data"
    }
   ],
   "source": [
    "plt.contour(plotx,plotx,pfspot, levels = [0.03,0.04,0.05,0.06,0.08,0.1,0.3,0.6], cmap = 'jet')\n",
    "plt.xlim([-400,400])"
   ]
  }
 ],
 "metadata": {
  "kernelspec": {
   "display_name": "Python 3",
   "language": "python",
   "name": "python3"
  },
  "language_info": {
   "codemirror_mode": {
    "name": "ipython",
    "version": 3
   },
   "file_extension": ".py",
   "mimetype": "text/x-python",
   "name": "python",
   "nbconvert_exporter": "python",
   "pygments_lexer": "ipython3",
   "version": "3.8.8"
  }
 },
 "nbformat": 4,
 "nbformat_minor": 5
}
